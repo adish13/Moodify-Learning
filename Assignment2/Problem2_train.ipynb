{
 "cells": [
  {
   "cell_type": "code",
   "execution_count": 1,
   "id": "available-assurance",
   "metadata": {},
   "outputs": [],
   "source": [
    "#importing various modules\n",
    "import math\n",
    "import numpy as np\n",
    "import pandas as pd\n",
    "import matplotlib.pyplot as plt\n",
    "import seaborn as sns\n",
    "from sklearn import preprocessing\n",
    "import sklearn.model_selection as ms\n",
    "from sklearn import linear_model\n",
    "import sklearn.metrics as sklm"
   ]
  },
  {
   "cell_type": "code",
   "execution_count": 2,
   "id": "compatible-institution",
   "metadata": {},
   "outputs": [
    {
     "data": {
      "text/html": [
       "<div>\n",
       "<style scoped>\n",
       "    .dataframe tbody tr th:only-of-type {\n",
       "        vertical-align: middle;\n",
       "    }\n",
       "\n",
       "    .dataframe tbody tr th {\n",
       "        vertical-align: top;\n",
       "    }\n",
       "\n",
       "    .dataframe thead th {\n",
       "        text-align: right;\n",
       "    }\n",
       "</style>\n",
       "<table border=\"1\" class=\"dataframe\">\n",
       "  <thead>\n",
       "    <tr style=\"text-align: right;\">\n",
       "      <th></th>\n",
       "      <th>0</th>\n",
       "      <th>1</th>\n",
       "      <th>2</th>\n",
       "    </tr>\n",
       "  </thead>\n",
       "  <tbody>\n",
       "    <tr>\n",
       "      <th>0</th>\n",
       "      <td>-3.005382</td>\n",
       "      <td>-1.701191</td>\n",
       "      <td>1</td>\n",
       "    </tr>\n",
       "    <tr>\n",
       "      <th>1</th>\n",
       "      <td>-2.908105</td>\n",
       "      <td>-1.699589</td>\n",
       "      <td>1</td>\n",
       "    </tr>\n",
       "    <tr>\n",
       "      <th>2</th>\n",
       "      <td>-2.958954</td>\n",
       "      <td>-1.660940</td>\n",
       "      <td>1</td>\n",
       "    </tr>\n",
       "    <tr>\n",
       "      <th>3</th>\n",
       "      <td>-2.922840</td>\n",
       "      <td>-1.638722</td>\n",
       "      <td>1</td>\n",
       "    </tr>\n",
       "    <tr>\n",
       "      <th>4</th>\n",
       "      <td>-2.924240</td>\n",
       "      <td>-1.508256</td>\n",
       "      <td>1</td>\n",
       "    </tr>\n",
       "    <tr>\n",
       "      <th>5</th>\n",
       "      <td>-2.981481</td>\n",
       "      <td>-1.438883</td>\n",
       "      <td>1</td>\n",
       "    </tr>\n",
       "    <tr>\n",
       "      <th>6</th>\n",
       "      <td>-3.087897</td>\n",
       "      <td>-1.444972</td>\n",
       "      <td>1</td>\n",
       "    </tr>\n",
       "    <tr>\n",
       "      <th>7</th>\n",
       "      <td>-2.931860</td>\n",
       "      <td>-1.490334</td>\n",
       "      <td>1</td>\n",
       "    </tr>\n",
       "    <tr>\n",
       "      <th>8</th>\n",
       "      <td>-2.988094</td>\n",
       "      <td>-1.436734</td>\n",
       "      <td>1</td>\n",
       "    </tr>\n",
       "    <tr>\n",
       "      <th>9</th>\n",
       "      <td>-2.943210</td>\n",
       "      <td>-1.377080</td>\n",
       "      <td>1</td>\n",
       "    </tr>\n",
       "    <tr>\n",
       "      <th>10</th>\n",
       "      <td>-2.912020</td>\n",
       "      <td>-1.331787</td>\n",
       "      <td>1</td>\n",
       "    </tr>\n",
       "    <tr>\n",
       "      <th>11</th>\n",
       "      <td>-3.002485</td>\n",
       "      <td>-1.290735</td>\n",
       "      <td>1</td>\n",
       "    </tr>\n",
       "    <tr>\n",
       "      <th>12</th>\n",
       "      <td>-2.933606</td>\n",
       "      <td>-1.343420</td>\n",
       "      <td>1</td>\n",
       "    </tr>\n",
       "    <tr>\n",
       "      <th>13</th>\n",
       "      <td>-2.934631</td>\n",
       "      <td>-1.214583</td>\n",
       "      <td>1</td>\n",
       "    </tr>\n",
       "    <tr>\n",
       "      <th>14</th>\n",
       "      <td>-2.948802</td>\n",
       "      <td>-1.237379</td>\n",
       "      <td>1</td>\n",
       "    </tr>\n",
       "    <tr>\n",
       "      <th>15</th>\n",
       "      <td>-2.916871</td>\n",
       "      <td>-1.125245</td>\n",
       "      <td>1</td>\n",
       "    </tr>\n",
       "    <tr>\n",
       "      <th>16</th>\n",
       "      <td>-2.942068</td>\n",
       "      <td>-1.101960</td>\n",
       "      <td>1</td>\n",
       "    </tr>\n",
       "    <tr>\n",
       "      <th>17</th>\n",
       "      <td>-2.921073</td>\n",
       "      <td>-1.143438</td>\n",
       "      <td>1</td>\n",
       "    </tr>\n",
       "    <tr>\n",
       "      <th>18</th>\n",
       "      <td>-2.901245</td>\n",
       "      <td>-1.125671</td>\n",
       "      <td>1</td>\n",
       "    </tr>\n",
       "    <tr>\n",
       "      <th>19</th>\n",
       "      <td>-2.949365</td>\n",
       "      <td>-0.982788</td>\n",
       "      <td>1</td>\n",
       "    </tr>\n",
       "  </tbody>\n",
       "</table>\n",
       "</div>"
      ],
      "text/plain": [
       "           0         1  2\n",
       "0  -3.005382 -1.701191  1\n",
       "1  -2.908105 -1.699589  1\n",
       "2  -2.958954 -1.660940  1\n",
       "3  -2.922840 -1.638722  1\n",
       "4  -2.924240 -1.508256  1\n",
       "5  -2.981481 -1.438883  1\n",
       "6  -3.087897 -1.444972  1\n",
       "7  -2.931860 -1.490334  1\n",
       "8  -2.988094 -1.436734  1\n",
       "9  -2.943210 -1.377080  1\n",
       "10 -2.912020 -1.331787  1\n",
       "11 -3.002485 -1.290735  1\n",
       "12 -2.933606 -1.343420  1\n",
       "13 -2.934631 -1.214583  1\n",
       "14 -2.948802 -1.237379  1\n",
       "15 -2.916871 -1.125245  1\n",
       "16 -2.942068 -1.101960  1\n",
       "17 -2.921073 -1.143438  1\n",
       "18 -2.901245 -1.125671  1\n",
       "19 -2.949365 -0.982788  1"
      ]
     },
     "execution_count": 2,
     "metadata": {},
     "output_type": "execute_result"
    }
   ],
   "source": [
    "#reading data\n",
    "data = pd.read_json('data.json')\n",
    "data.head(20)"
   ]
  },
  {
   "cell_type": "code",
   "execution_count": 3,
   "id": "seeing-newport",
   "metadata": {},
   "outputs": [
    {
     "data": {
      "text/html": [
       "<div>\n",
       "<style scoped>\n",
       "    .dataframe tbody tr th:only-of-type {\n",
       "        vertical-align: middle;\n",
       "    }\n",
       "\n",
       "    .dataframe tbody tr th {\n",
       "        vertical-align: top;\n",
       "    }\n",
       "\n",
       "    .dataframe thead th {\n",
       "        text-align: right;\n",
       "    }\n",
       "</style>\n",
       "<table border=\"1\" class=\"dataframe\">\n",
       "  <thead>\n",
       "    <tr style=\"text-align: right;\">\n",
       "      <th></th>\n",
       "      <th>x</th>\n",
       "      <th>y</th>\n",
       "      <th>label</th>\n",
       "    </tr>\n",
       "  </thead>\n",
       "  <tbody>\n",
       "    <tr>\n",
       "      <th>0</th>\n",
       "      <td>-3.005382</td>\n",
       "      <td>-1.701191</td>\n",
       "      <td>1</td>\n",
       "    </tr>\n",
       "    <tr>\n",
       "      <th>1</th>\n",
       "      <td>-2.908105</td>\n",
       "      <td>-1.699589</td>\n",
       "      <td>1</td>\n",
       "    </tr>\n",
       "    <tr>\n",
       "      <th>2</th>\n",
       "      <td>-2.958954</td>\n",
       "      <td>-1.660940</td>\n",
       "      <td>1</td>\n",
       "    </tr>\n",
       "    <tr>\n",
       "      <th>3</th>\n",
       "      <td>-2.922840</td>\n",
       "      <td>-1.638722</td>\n",
       "      <td>1</td>\n",
       "    </tr>\n",
       "    <tr>\n",
       "      <th>4</th>\n",
       "      <td>-2.924240</td>\n",
       "      <td>-1.508256</td>\n",
       "      <td>1</td>\n",
       "    </tr>\n",
       "  </tbody>\n",
       "</table>\n",
       "</div>"
      ],
      "text/plain": [
       "          x         y  label\n",
       "0 -3.005382 -1.701191      1\n",
       "1 -2.908105 -1.699589      1\n",
       "2 -2.958954 -1.660940      1\n",
       "3 -2.922840 -1.638722      1\n",
       "4 -2.924240 -1.508256      1"
      ]
     },
     "execution_count": 3,
     "metadata": {},
     "output_type": "execute_result"
    }
   ],
   "source": [
    "#assigning column names\n",
    "data.columns=['x','y','label']\n",
    "data.head()"
   ]
  },
  {
   "cell_type": "code",
   "execution_count": 4,
   "id": "opening-electronics",
   "metadata": {},
   "outputs": [
    {
     "name": "stdout",
     "output_type": "stream",
     "text": [
      "(6000, 3)\n",
      "x        0\n",
      "y        0\n",
      "label    0\n",
      "dtype: int64\n"
     ]
    }
   ],
   "source": [
    "#checking for missing entries\n",
    "print(data.shape)\n",
    "print(data.isnull().sum())"
   ]
  },
  {
   "cell_type": "code",
   "execution_count": 5,
   "id": "graduate-basics",
   "metadata": {},
   "outputs": [
    {
     "data": {
      "text/html": [
       "<div>\n",
       "<style scoped>\n",
       "    .dataframe tbody tr th:only-of-type {\n",
       "        vertical-align: middle;\n",
       "    }\n",
       "\n",
       "    .dataframe tbody tr th {\n",
       "        vertical-align: top;\n",
       "    }\n",
       "\n",
       "    .dataframe thead th {\n",
       "        text-align: right;\n",
       "    }\n",
       "</style>\n",
       "<table border=\"1\" class=\"dataframe\">\n",
       "  <thead>\n",
       "    <tr style=\"text-align: right;\">\n",
       "      <th></th>\n",
       "      <th>x</th>\n",
       "      <th>y</th>\n",
       "      <th>label</th>\n",
       "    </tr>\n",
       "  </thead>\n",
       "  <tbody>\n",
       "    <tr>\n",
       "      <th>0</th>\n",
       "      <td>-3.005382</td>\n",
       "      <td>-1.701191</td>\n",
       "      <td>1</td>\n",
       "    </tr>\n",
       "    <tr>\n",
       "      <th>1</th>\n",
       "      <td>-2.908105</td>\n",
       "      <td>-1.699589</td>\n",
       "      <td>1</td>\n",
       "    </tr>\n",
       "    <tr>\n",
       "      <th>2</th>\n",
       "      <td>-2.958954</td>\n",
       "      <td>-1.660940</td>\n",
       "      <td>1</td>\n",
       "    </tr>\n",
       "    <tr>\n",
       "      <th>3</th>\n",
       "      <td>-2.922840</td>\n",
       "      <td>-1.638722</td>\n",
       "      <td>1</td>\n",
       "    </tr>\n",
       "    <tr>\n",
       "      <th>4</th>\n",
       "      <td>-2.924240</td>\n",
       "      <td>-1.508256</td>\n",
       "      <td>1</td>\n",
       "    </tr>\n",
       "    <tr>\n",
       "      <th>...</th>\n",
       "      <td>...</td>\n",
       "      <td>...</td>\n",
       "      <td>...</td>\n",
       "    </tr>\n",
       "    <tr>\n",
       "      <th>5995</th>\n",
       "      <td>2.977109</td>\n",
       "      <td>1.471810</td>\n",
       "      <td>1</td>\n",
       "    </tr>\n",
       "    <tr>\n",
       "      <th>5996</th>\n",
       "      <td>2.987465</td>\n",
       "      <td>1.498655</td>\n",
       "      <td>1</td>\n",
       "    </tr>\n",
       "    <tr>\n",
       "      <th>5997</th>\n",
       "      <td>2.863268</td>\n",
       "      <td>1.543203</td>\n",
       "      <td>1</td>\n",
       "    </tr>\n",
       "    <tr>\n",
       "      <th>5998</th>\n",
       "      <td>2.929324</td>\n",
       "      <td>1.621393</td>\n",
       "      <td>1</td>\n",
       "    </tr>\n",
       "    <tr>\n",
       "      <th>5999</th>\n",
       "      <td>2.988666</td>\n",
       "      <td>1.577512</td>\n",
       "      <td>1</td>\n",
       "    </tr>\n",
       "  </tbody>\n",
       "</table>\n",
       "<p>6000 rows × 3 columns</p>\n",
       "</div>"
      ],
      "text/plain": [
       "             x         y  label\n",
       "0    -3.005382 -1.701191      1\n",
       "1    -2.908105 -1.699589      1\n",
       "2    -2.958954 -1.660940      1\n",
       "3    -2.922840 -1.638722      1\n",
       "4    -2.924240 -1.508256      1\n",
       "...        ...       ...    ...\n",
       "5995  2.977109  1.471810      1\n",
       "5996  2.987465  1.498655      1\n",
       "5997  2.863268  1.543203      1\n",
       "5998  2.929324  1.621393      1\n",
       "5999  2.988666  1.577512      1\n",
       "\n",
       "[6000 rows x 3 columns]"
      ]
     },
     "execution_count": 5,
     "metadata": {},
     "output_type": "execute_result"
    }
   ],
   "source": [
    "#dropping duplicate rows \n",
    "data.drop_duplicates(keep = 'last')"
   ]
  },
  {
   "cell_type": "code",
   "execution_count": 6,
   "id": "accessible-trainer",
   "metadata": {},
   "outputs": [
    {
     "data": {
      "text/plain": [
       "1    4679\n",
       "0    1321\n",
       "Name: label, dtype: int64"
      ]
     },
     "execution_count": 6,
     "metadata": {},
     "output_type": "execute_result"
    }
   ],
   "source": [
    "data['label'].value_counts()"
   ]
  },
  {
   "cell_type": "code",
   "execution_count": 7,
   "id": "mathematical-airfare",
   "metadata": {},
   "outputs": [
    {
     "name": "stdout",
     "output_type": "stream",
     "text": [
      "(2000, 3)\n",
      "(4000, 3)\n"
     ]
    }
   ],
   "source": [
    "#splitting training and test data \n",
    "data_test = data.sample(n=2000, random_state=400)\n",
    "data_train = data.drop(data_test.index)\n",
    "print(data_test.shape)\n",
    "print(data_train.shape)\n",
    "data_train.reset_index(drop = True, inplace= True)\n",
    "data_test.reset_index(drop = True, inplace= True)"
   ]
  },
  {
   "cell_type": "code",
   "execution_count": 8,
   "id": "american-monitor",
   "metadata": {},
   "outputs": [
    {
     "data": {
      "text/html": [
       "<div>\n",
       "<style scoped>\n",
       "    .dataframe tbody tr th:only-of-type {\n",
       "        vertical-align: middle;\n",
       "    }\n",
       "\n",
       "    .dataframe tbody tr th {\n",
       "        vertical-align: top;\n",
       "    }\n",
       "\n",
       "    .dataframe thead th {\n",
       "        text-align: right;\n",
       "    }\n",
       "</style>\n",
       "<table border=\"1\" class=\"dataframe\">\n",
       "  <thead>\n",
       "    <tr style=\"text-align: right;\">\n",
       "      <th></th>\n",
       "      <th>x</th>\n",
       "      <th>y</th>\n",
       "      <th>label</th>\n",
       "    </tr>\n",
       "  </thead>\n",
       "  <tbody>\n",
       "    <tr>\n",
       "      <th>0</th>\n",
       "      <td>-3.005382</td>\n",
       "      <td>-1.701191</td>\n",
       "      <td>1</td>\n",
       "    </tr>\n",
       "    <tr>\n",
       "      <th>1</th>\n",
       "      <td>-2.908105</td>\n",
       "      <td>-1.699589</td>\n",
       "      <td>1</td>\n",
       "    </tr>\n",
       "    <tr>\n",
       "      <th>2</th>\n",
       "      <td>-2.958954</td>\n",
       "      <td>-1.660940</td>\n",
       "      <td>1</td>\n",
       "    </tr>\n",
       "    <tr>\n",
       "      <th>3</th>\n",
       "      <td>-2.922840</td>\n",
       "      <td>-1.638722</td>\n",
       "      <td>1</td>\n",
       "    </tr>\n",
       "    <tr>\n",
       "      <th>4</th>\n",
       "      <td>-2.924240</td>\n",
       "      <td>-1.508256</td>\n",
       "      <td>1</td>\n",
       "    </tr>\n",
       "  </tbody>\n",
       "</table>\n",
       "</div>"
      ],
      "text/plain": [
       "          x         y  label\n",
       "0 -3.005382 -1.701191      1\n",
       "1 -2.908105 -1.699589      1\n",
       "2 -2.958954 -1.660940      1\n",
       "3 -2.922840 -1.638722      1\n",
       "4 -2.924240 -1.508256      1"
      ]
     },
     "execution_count": 8,
     "metadata": {},
     "output_type": "execute_result"
    }
   ],
   "source": [
    "data_train.head()"
   ]
  },
  {
   "cell_type": "code",
   "execution_count": 9,
   "id": "medical-shopping",
   "metadata": {},
   "outputs": [
    {
     "data": {
      "text/html": [
       "<div>\n",
       "<style scoped>\n",
       "    .dataframe tbody tr th:only-of-type {\n",
       "        vertical-align: middle;\n",
       "    }\n",
       "\n",
       "    .dataframe tbody tr th {\n",
       "        vertical-align: top;\n",
       "    }\n",
       "\n",
       "    .dataframe thead th {\n",
       "        text-align: right;\n",
       "    }\n",
       "</style>\n",
       "<table border=\"1\" class=\"dataframe\">\n",
       "  <thead>\n",
       "    <tr style=\"text-align: right;\">\n",
       "      <th></th>\n",
       "      <th>x</th>\n",
       "      <th>y</th>\n",
       "      <th>label</th>\n",
       "    </tr>\n",
       "  </thead>\n",
       "  <tbody>\n",
       "    <tr>\n",
       "      <th>0</th>\n",
       "      <td>-1.429134</td>\n",
       "      <td>1.587175</td>\n",
       "      <td>0</td>\n",
       "    </tr>\n",
       "    <tr>\n",
       "      <th>1</th>\n",
       "      <td>-0.598626</td>\n",
       "      <td>0.459701</td>\n",
       "      <td>1</td>\n",
       "    </tr>\n",
       "    <tr>\n",
       "      <th>2</th>\n",
       "      <td>-2.211451</td>\n",
       "      <td>-1.435652</td>\n",
       "      <td>1</td>\n",
       "    </tr>\n",
       "    <tr>\n",
       "      <th>3</th>\n",
       "      <td>-0.288557</td>\n",
       "      <td>-0.224374</td>\n",
       "      <td>0</td>\n",
       "    </tr>\n",
       "    <tr>\n",
       "      <th>4</th>\n",
       "      <td>-1.250891</td>\n",
       "      <td>-1.514649</td>\n",
       "      <td>0</td>\n",
       "    </tr>\n",
       "  </tbody>\n",
       "</table>\n",
       "</div>"
      ],
      "text/plain": [
       "          x         y  label\n",
       "0 -1.429134  1.587175      0\n",
       "1 -0.598626  0.459701      1\n",
       "2 -2.211451 -1.435652      1\n",
       "3 -0.288557 -0.224374      0\n",
       "4 -1.250891 -1.514649      0"
      ]
     },
     "execution_count": 9,
     "metadata": {},
     "output_type": "execute_result"
    }
   ],
   "source": [
    "data_test.head()"
   ]
  },
  {
   "cell_type": "code",
   "execution_count": 10,
   "id": "voluntary-microwave",
   "metadata": {},
   "outputs": [
    {
     "data": {
      "text/plain": [
       "1    3145\n",
       "0     855\n",
       "Name: label, dtype: int64"
      ]
     },
     "execution_count": 10,
     "metadata": {},
     "output_type": "execute_result"
    }
   ],
   "source": [
    "data_train['label'].value_counts()"
   ]
  },
  {
   "cell_type": "code",
   "execution_count": 11,
   "id": "purple-julian",
   "metadata": {},
   "outputs": [
    {
     "data": {
      "text/plain": [
       "1    1534\n",
       "0     466\n",
       "Name: label, dtype: int64"
      ]
     },
     "execution_count": 11,
     "metadata": {},
     "output_type": "execute_result"
    }
   ],
   "source": [
    "data_test['label'].value_counts()"
   ]
  },
  {
   "cell_type": "code",
   "execution_count": 12,
   "id": "bottom-affect",
   "metadata": {},
   "outputs": [
    {
     "name": "stdout",
     "output_type": "stream",
     "text": [
      "0       0.177075\n",
      "1       0.160372\n",
      "2       0.165009\n",
      "3       0.156917\n",
      "4       0.145498\n",
      "          ...   \n",
      "3995    0.138183\n",
      "3996    0.142758\n",
      "3997    0.154758\n",
      "3998    0.139156\n",
      "3999    0.162048\n",
      "Length: 4000, dtype: float64\n",
      "0       0.544153\n",
      "1       0.540007\n",
      "2       0.541159\n",
      "3       0.539149\n",
      "4       0.536311\n",
      "          ...   \n",
      "3995    0.534491\n",
      "3996    0.535629\n",
      "3997    0.538613\n",
      "3998    0.534733\n",
      "3999    0.540424\n",
      "Length: 4000, dtype: float64\n"
     ]
    }
   ],
   "source": [
    "def polynomial(x,y,weights):\n",
    "    sum = 0\n",
    "    for i in range(5):\n",
    "        sum += weights[i]*(x**(4-i))*(y**i)\n",
    "    return sum \n",
    "def sigmoid(result):\n",
    "    return 1/(1+np.exp(-1*result))\n",
    "#guess weight    \n",
    "weights = [0.001]*5\n",
    "result = polynomial(data_train['x'], data_train['y'], weights)\n",
    "print(result)\n",
    "result = sigmoid(result)\n",
    "print(result)"
   ]
  },
  {
   "cell_type": "markdown",
   "id": "satellite-charleston",
   "metadata": {},
   "source": [
    "log loss = $\\sum$ -ylog(y') - (1-y)log(1-y')"
   ]
  },
  {
   "cell_type": "code",
   "execution_count": 13,
   "id": "expanded-thomson",
   "metadata": {},
   "outputs": [
    {
     "data": {
      "text/plain": [
       "2734.0531738058"
      ]
     },
     "execution_count": 13,
     "metadata": {},
     "output_type": "execute_result"
    }
   ],
   "source": [
    "loss = -data_train['label']*np.log(result) - (1-data_train['label'])*np.log(1-result)\n",
    "loss = loss.sum()\n",
    "loss"
   ]
  },
  {
   "cell_type": "markdown",
   "id": "impossible-address",
   "metadata": {},
   "source": [
    "Loss is high and we need to employ gradient descent algorithm to get appropriate weights"
   ]
  },
  {
   "cell_type": "code",
   "execution_count": 14,
   "id": "elementary-dutch",
   "metadata": {},
   "outputs": [
    {
     "name": "stdout",
     "output_type": "stream",
     "text": [
      "1236.6133359076587\n"
     ]
    }
   ],
   "source": [
    "alpha = 0.0005\n",
    "def sgn(a):\n",
    "  b = abs(a)\n",
    "  return a/b\n",
    "\n",
    "x,y,label = data['x'],data['y'],data['label']\n",
    "def grad1(data,weights):\n",
    "  value = weights[0]*x**4+weights[1]*(x**3)*y+weights[2]*(x**2)*(y**2)+weights[3]*(x**1)*(y**3)+weights[4]*(y**4)\n",
    "  gradient = -(label/value)*(x**4)+((1-label)/(1-value))*(x**4)\n",
    "  return gradient.sum()\n",
    "def grad2(data,weights):\n",
    "  value = weights[0]*x**4+weights[1]*(x**3)*y+weights[2]*(x**2)*(y**2)+weights[3]*(x**1)*(y**3)+weights[4]*(y**4)\n",
    "  grad = -(label/value)*(x**3*y)+((1-label)/(1-value))*(x**3*y)\n",
    "  return grad.sum()\n",
    "def grad3(data,weights):\n",
    "  value = weights[0]*x**4+weights[1]*(x**3)*y+weights[2]*(x**2)*(y**2)+weights[3]*(x**1)*(y**3)+weights[4]*(y**4)\n",
    "  grad = -(label/value)*(x**2*y**2)+((1-label)/(1-value))*(x**2*y**2)\n",
    "  return grad.sum()\n",
    "def grad4(data,weights):\n",
    "  value = weights[0]*x**4+weights[1]*(x**3)*y+weights[2]*(x**2)*(y**2)+weights[3]*(x**1)*(y**3)+weights[4]*(y**4)\n",
    "  grad = -(label/value)*(x*(y**3))+((1-label)/(1-value))*(x*(y**3))\n",
    "  return grad.sum()\n",
    "def grad5(data, weights):\n",
    "  value = weights[0]*x**4+weights[1]*(x**3)*y+weights[2]*(x**2)*(y**2)+weights[3]*(x**1)*(y**3)+weights[4]*(y**4)\n",
    "  grad = -(label/value)*(y**4)+((1-label)/(1-value))*(y**4)\n",
    "  return grad.sum()\n",
    "  \n",
    "for i in range(750):\n",
    "  weights[0] = weights[0] - alpha*sgn(grad1(data,weights))\n",
    "  weights[1] = weights[1] - alpha*sgn(grad2(data,weights))\n",
    "  weights[2] = weights[2] - alpha*sgn(grad3(data,weights))\n",
    "  weights[3] = weights[3] - alpha*sgn(grad4(data,weights))\n",
    "  weights[4] = weights[4] - alpha*sgn(grad5(data,weights))\n",
    "result = polynomial(data_train['x'], data_train['y'],weights)\n",
    "result = sigmoid(result)\n",
    "loss = -data_train['label']*np.log(result) - (1-data_train['label'])*np.log(1-result)\n",
    "loss = loss.sum()\n",
    "print(loss)"
   ]
  },
  {
   "cell_type": "code",
   "execution_count": 15,
   "id": "educated-islam",
   "metadata": {},
   "outputs": [
    {
     "name": "stdout",
     "output_type": "stream",
     "text": [
      "(4000,)\n",
      "[[   0    1]\n",
      " [ 925 3075]]\n"
     ]
    },
    {
     "data": {
      "text/plain": [
       "1    3145\n",
       "0     855\n",
       "Name: label, dtype: int64"
      ]
     },
     "execution_count": 15,
     "metadata": {},
     "output_type": "execute_result"
    }
   ],
   "source": [
    "#defining threshold for classification \n",
    "#0.525 is the best possible threshold ,checked through trial and error\n",
    "def score_model(probs, threshold):\n",
    "    return np.array([1 if x > threshold else 0 for x in probs[:]])\n",
    "print(result.shape)\n",
    "scores = score_model(result, 0.525)\n",
    "unique, counts = np.unique(scores, return_counts=True)\n",
    "print(np.asarray((unique, counts)))\n",
    "data_train['label'].value_counts()"
   ]
  },
  {
   "cell_type": "code",
   "execution_count": 16,
   "id": "innovative-liberty",
   "metadata": {},
   "outputs": [
    {
     "name": "stdout",
     "output_type": "stream",
     "text": [
      "3174.0811116439495\n",
      "[[   0    1]\n",
      " [ 466 1534]]\n"
     ]
    },
    {
     "data": {
      "text/plain": [
       "1    1534\n",
       "0     466\n",
       "Name: label, dtype: int64"
      ]
     },
     "execution_count": 16,
     "metadata": {},
     "output_type": "execute_result"
    }
   ],
   "source": [
    "result = polynomial(data_test['x'], data_test['y'],weights)\n",
    "result = sigmoid(result)\n",
    "loss = -data_train['label']*np.log(result) - (1-data_train['label'])*np.log(1-result)\n",
    "loss = loss.sum()\n",
    "print(loss)\n",
    "scores = score_model(result, 0.525)\n",
    "unique, counts = np.unique(scores, return_counts=True)\n",
    "print(np.asarray((unique, counts)))\n",
    "data_test['label'].value_counts()"
   ]
  },
  {
   "cell_type": "markdown",
   "id": "overall-remainder",
   "metadata": {},
   "source": [
    "# Checking Various Metrics"
   ]
  },
  {
   "cell_type": "code",
   "execution_count": 17,
   "id": "certified-mountain",
   "metadata": {},
   "outputs": [
    {
     "name": "stdout",
     "output_type": "stream",
     "text": [
      "                 Confusion matrix\n",
      "                 Score positive    Score negative\n",
      "Actual positive       321               145\n",
      "Actual negative       145              1389\n",
      "\n",
      "Accuracy  0.85\n",
      " \n",
      "           Positive      Negative\n",
      "Num case      466          1534\n",
      "Precision    0.69          0.91\n",
      "Recall       0.69          0.91\n",
      "F1           0.69          0.91\n"
     ]
    }
   ],
   "source": [
    "def print_metrics(labels, scores):\n",
    "    metrics = sklm.precision_recall_fscore_support(labels, scores)\n",
    "    conf = sklm.confusion_matrix(labels, scores)\n",
    "    print('                 Confusion matrix')\n",
    "    print('                 Score positive    Score negative')\n",
    "    print('Actual positive    %6d' % conf[0,0] + '             %5d' % conf[0,1])\n",
    "    print('Actual negative    %6d' % conf[1,0] + '             %5d' % conf[1,1])\n",
    "    print('')\n",
    "    print('Accuracy  %0.2f' % sklm.accuracy_score(labels, scores))\n",
    "    print(' ')\n",
    "    print('           Positive      Negative')\n",
    "    print('Num case   %6d' % metrics[3][0] + '        %6d' % metrics[3][1])\n",
    "    print('Precision  %6.2f' % metrics[0][0] + '        %6.2f' % metrics[0][1])\n",
    "    print('Recall     %6.2f' % metrics[1][0] + '        %6.2f' % metrics[1][1])\n",
    "    print('F1         %6.2f' % metrics[2][0] + '        %6.2f' % metrics[2][1])\n",
    "\n",
    "\n",
    "    \n",
    "print_metrics(data_test['label'], scores)"
   ]
  },
  {
   "cell_type": "code",
   "execution_count": 18,
   "id": "chronic-minutes",
   "metadata": {},
   "outputs": [
    {
     "name": "stdout",
     "output_type": "stream",
     "text": [
      "[0.25400000000000017, 0.017000000000000008, 0.2460000000000002, -0.01800000000000001, -0.038000000000000034]\n"
     ]
    }
   ],
   "source": [
    "print(weights)"
   ]
  },
  {
   "cell_type": "markdown",
   "id": "polished-switch",
   "metadata": {},
   "source": [
    "These are the required weights which will be used to classify test data"
   ]
  },
  {
   "cell_type": "code",
   "execution_count": null,
   "id": "paperback-expression",
   "metadata": {},
   "outputs": [],
   "source": []
  }
 ],
 "metadata": {
  "kernelspec": {
   "display_name": "Python 3",
   "language": "python",
   "name": "python3"
  },
  "language_info": {
   "codemirror_mode": {
    "name": "ipython",
    "version": 3
   },
   "file_extension": ".py",
   "mimetype": "text/x-python",
   "name": "python",
   "nbconvert_exporter": "python",
   "pygments_lexer": "ipython3",
   "version": "3.8.5"
  }
 },
 "nbformat": 4,
 "nbformat_minor": 5
}
